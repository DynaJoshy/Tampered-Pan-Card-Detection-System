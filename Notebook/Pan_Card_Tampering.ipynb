{
  "cells": [
    {
      "cell_type": "markdown",
      "metadata": {
        "id": "15GUgEmTKCxh"
      },
      "source": [
        "## PAN Card Tampering Detection"
      ]
    },
    {
      "cell_type": "code",
      "execution_count": null,
      "metadata": {
        "id": "2wH3HcCwKCxk"
      },
      "outputs": [],
      "source": [
        "# import the necessary packages\n",
        "from skimage.metrics import structural_similarity\n",
        "import imutils\n",
        "import cv2\n",
        "from PIL import Image\n",
        "import requests"
      ]
    },
    {
      "cell_type": "code",
      "execution_count": null,
      "metadata": {
        "id": "a_62dTgoyF_3"
      },
      "outputs": [],
      "source": [
        "!mkdir pan_card_tampering\n",
        "!mkdir pan_card_tampering/image"
      ]
    },
    {
      "cell_type": "code",
      "execution_count": null,
      "metadata": {
        "id": "t9jG0T6gKCxl"
      },
      "outputs": [],
      "source": [
        "# Open image and display\n",
        "original = Image.open(requests.get('https://www.thestatesman.com/wp-content/uploads/2019/07/pan-card.jpg', stream=True).raw)\n",
        "tampered = Image.open(requests.get('https://assets1.cleartax-cdn.com/s/img/20170526124335/Pan4.png', stream=True).raw) "
      ]
    },
    {
      "cell_type": "markdown",
      "metadata": {
        "id": "JQVLkSpRKCxl"
      },
      "source": [
        "#### Loading original and user provided images."
      ]
    },
    {
      "cell_type": "code",
      "execution_count": null,
      "metadata": {
        "colab": {
          "base_uri": "https://localhost:8080/"
        },
        "id": "rnNu5yHdKCxo",
        "outputId": "980a4da1-da2f-4866-928b-bbd513cf76a1"
      },
      "outputs": [
        {
          "name": "stdout",
          "output_type": "stream",
          "text": [
            "Original image format :  JPEG\n",
            "Tampered image format :  PNG\n",
            "Original image size :  (1200, 800)\n",
            "Tampered image size :  (282, 179)\n"
          ]
        }
      ],
      "source": [
        "# The file format of the source file.\n",
        "print(\"Original image format : \",original.format) \n",
        "print(\"Tampered image format : \",tampered.format)\n",
        "\n",
        "# Image size, in pixels. The size is given as a 2-tuple (width, height).\n",
        "print(\"Original image size : \",original.size) \n",
        "print(\"Tampered image size : \",tampered.size) "
      ]
    },
    {
      "cell_type": "markdown",
      "metadata": {
        "id": "iYJUY_oyKCxp"
      },
      "source": [
        "#### Converting the format of  tampered image similar to original image."
      ]
    },
    {
      "cell_type": "code",
      "execution_count": null,
      "metadata": {
        "colab": {
          "base_uri": "https://localhost:8080/"
        },
        "id": "kRP_D-WXKCxq",
        "outputId": "af826970-b785-4f8b-8d06-4883aa6a2343"
      },
      "outputs": [
        {
          "name": "stdout",
          "output_type": "stream",
          "text": [
            "(250, 160)\n",
            "(250, 160)\n"
          ]
        }
      ],
      "source": [
        "# Resize Image\n",
        "original = original.resize((250, 160))\n",
        "print(original.size)\n",
        "original.save('pan_card_tampering/image/original.png')#Save image\n",
        "tampered = tampered.resize((250,160))\n",
        "print(tampered.size)\n",
        "tampered.save('pan_card_tampering/image/tampered.png')#Saves image"
      ]
    },
    {
      "cell_type": "markdown",
      "metadata": {
        "id": "TFCJuvVdKCxo"
      },
      "source": [
        "####  Here, we checked the format and size of the original and tampered image."
      ]
    },
    {
      "cell_type": "code",
      "execution_count": null,
      "metadata": {
        "id": "s4SvyoMWKCxp"
      },
      "outputs": [],
      "source": [
        "# Change image type if required from png to jpg\n",
        "tampered = Image.open('pan_card_tampering/image/tampered.png')\n",
        "tampered.save('pan_card_tampering/image/tampered.png')#can do png to jpg"
      ]
    },
    {
      "cell_type": "markdown",
      "metadata": {
        "id": "KSjxpFJaKCxq"
      },
      "source": [
        "#### Converting the size of tampered and original image."
      ]
    },
    {
      "cell_type": "markdown",
      "metadata": {
        "id": "9sP20HDdKCxm"
      },
      "source": [
        "#### Orginial PAN card image used for comparision."
      ]
    },
    {
      "cell_type": "markdown",
      "metadata": {
        "id": "_e8u-oUNKCxn"
      },
      "source": [
        "#### User provided image which will be compared with PAN card."
      ]
    },
    {
      "cell_type": "code",
      "execution_count": null,
      "metadata": {
        "id": "XzJpYmBrKCxr"
      },
      "outputs": [],
      "source": [
        "# load the two input images\n",
        "original = cv2.imread('pan_card_tampering/image/original.png')\n",
        "tampered = cv2.imread('pan_card_tampering/image/tampered.png')"
      ]
    },
    {
      "cell_type": "markdown",
      "metadata": {
        "id": "hMiNC5D9KCxr"
      },
      "source": [
        "#### Reading images using opencv."
      ]
    },
    {
      "cell_type": "code",
      "execution_count": null,
      "metadata": {
        "id": "oSlQrNSUKCxr"
      },
      "outputs": [],
      "source": [
        "# Convert the images to grayscale\n",
        "original_gray = cv2.cvtColor(original, cv2.COLOR_BGR2GRAY)\n",
        "tampered_gray = cv2.cvtColor(tampered, cv2.COLOR_BGR2GRAY)"
      ]
    },
    {
      "cell_type": "markdown",
      "metadata": {
        "id": "T8C00E3rKCxr"
      },
      "source": [
        "#### Converting images into grayscale using opencv. Because in image processing many applications doesn't help us in identifying the important, edges of the coloured images also coloured images are bit complex to understand by machine beacuse they have 3 channel while grayscale has only 1 channel.  "
      ]
    },
    {
      "cell_type": "code",
      "execution_count": null,
      "metadata": {
        "colab": {
          "base_uri": "https://localhost:8080/"
        },
        "id": "2-Q3iyZ1KCxs",
        "outputId": "43057a54-b5d8-4db7-984d-fb65c0b6d20b"
      },
      "outputs": [
        {
          "name": "stdout",
          "output_type": "stream",
          "text": [
            "SSIM: 0.31678790332739426\n"
          ]
        }
      ],
      "source": [
        "# Compute the Structural Similarity Index (SSIM) between the two images, ensuring that the difference image is returned\n",
        "(score, diff) = structural_similarity(original_gray, tampered_gray, full=True) # score gives you an overall measure of how similar the entire images are and diff provides a detailed map showing which areas of the images are similar and which are different.\n",
        "diff = (diff * 255).astype(\"uint8\")\n",
        "print(\"SSIM: {}\".format(score))"
      ]
    },
    {
      "cell_type": "code",
      "execution_count": null,
      "metadata": {
        "id": "KZyROfb0KCxt"
      },
      "outputs": [],
      "source": [
        "# Calculating threshold and contours \n",
        "thresh = cv2.threshold(diff, 0, 255, cv2.THRESH_BINARY_INV | cv2.THRESH_OTSU)[1]\n",
        "cnts = cv2.findContours(thresh.copy(), cv2.RETR_EXTERNAL, cv2.CHAIN_APPROX_SIMPLE)\n",
        "cnts = imutils.grab_contours(cnts)"
      ]
    },
    {
      "cell_type": "markdown",
      "metadata": {
        "id": "x6adrld3KCxt"
      },
      "source": [
        "#### Here we are using the threshold function of computer vision which applies an adaptive threshold to the image which is stored in the form array. This function transforms the grayscale image into a binary image using a mathematical formula.\n",
        "#### Find contours works on binary image and retrive the contours. This contours are a useful tool for shape analysis and recoginition. Grab contours grabs the appropriate value of the contours."
      ]
    },
    {
      "cell_type": "code",
      "execution_count": null,
      "metadata": {
        "id": "UF_GWIPUKCxu"
      },
      "outputs": [],
      "source": [
        "# loop over the contours\n",
        "for c in cnts:\n",
        "    # applying contours on image\n",
        "    (x, y, w, h) = cv2.boundingRect(c)\n",
        "    cv2.rectangle(original, (x, y), (x + w, y + h), (0, 0, 255), 2)\n",
        "    cv2.rectangle(tampered, (x, y), (x + w, y + h), (0, 0, 255), 2)"
      ]
    },
    {
      "cell_type": "code",
      "execution_count": null,
      "metadata": {
        "id": "t_VCdHTKKCxx"
      },
      "outputs": [],
      "source": []
    }
  ],
  "metadata": {
    "accelerator": "GPU",
    "colab": {
      "collapsed_sections": [],
      "name": "Pan Card Tampering.ipynb",
      "provenance": []
    },
    "kernelspec": {
      "display_name": "Python 3",
      "name": "python3"
    }
  },
  "nbformat": 4,
  "nbformat_minor": 0
}

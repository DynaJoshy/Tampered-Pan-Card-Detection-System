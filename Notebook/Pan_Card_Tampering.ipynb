{
  "cells": [
    {
      "cell_type": "markdown",
      "metadata": {
        "id": "15GUgEmTKCxh"
      },
      "source": [
        "## PAN Card Tampering Detection"
      ]
    },
    {
      "cell_type": "code",
      "execution_count": null,
      "metadata": {
        "id": "2wH3HcCwKCxk"
      },
      "outputs": [],
      "source": [
        
        "from skimage.metrics import structural_similarity\n",
        "import imutils\n",
        "import cv2\n",
        "from PIL import Image\n",
        "import requests"
      ]
    },
    {
      "cell_type": "code",
      "execution_count": null,
      "metadata": {
        "id": "a_62dTgoyF_3"
      },
      "outputs": [],
      "source": [
        "!mkdir pan_card_tampering\n",
        "!mkdir pan_card_tampering/image"
      ]
    },
    {
      "cell_type": "code",
      "execution_count": null,
      "metadata": {
        "id": "t9jG0T6gKCxl"
      },
      "outputs": [],
      "source": [
        
        "original = Image.open(requests.get('https://www.thestatesman.com/wp-content/uploads/2019/07/pan-card.jpg', stream=True).raw)\n",
        "tampered = Image.open(requests.get('https://assets1.cleartax-cdn.com/s/img/20170526124335/Pan4.png', stream=True).raw) "
      ]
    },
    {
      "cell_type": "markdown",
      "metadata": {
        "id": "JQVLkSpRKCxl"
      },
      "source": [
        "#### Loading original and user provided images."
      ]
    },
    {
      "cell_type": "code",
      "execution_count": null,
      "metadata": {
        "colab": {
          "base_uri": "https://localhost:8080/"
        },
        "id": "rnNu5yHdKCxo",
        "outputId": "980a4da1-da2f-4866-928b-bbd513cf76a1"
      },
      "outputs": [
        {
          "name": "stdout",
          "output_type": "stream",
          "text": [
            "Original image format :  JPEG\n",
            "Tampered image format :  PNG\n",
            "Original image size :  (1200, 800)\n",
            "Tampered image size :  (282, 179)\n"
          ]
        }
      ],
      "source": [
        
        "print(\"Original image format : \",original.format) \n",
        "print(\"Tampered image format : \",tampered.format)\n",
        "\n",
        
        "print(\"Original image size : \",original.size) \n",
        "print(\"Tampered image size : \",tampered.size) "
      ]
    },
    {
      "cell_type": "markdown",
      "metadata": {
        "id": "iYJUY_oyKCxp"
      },
      "source": [
        
      ]
    },
    {
      "cell_type": "code",
      "execution_count": null,
      "metadata": {
        "colab": {
          "base_uri": "https://localhost:8080/"
        },
        "id": "kRP_D-WXKCxq",
        "outputId": "af826970-b785-4f8b-8d06-4883aa6a2343"
      },
      "outputs": [
        {
          "name": "stdout",
          "output_type": "stream",
          "text": [
            "(250, 160)\n",
            "(250, 160)\n"
          ]
        }
      ],
      "source": [
       
        "original = original.resize((250, 160))\n",
        "print(original.size)\n",
        "original.save('pan_card_tampering/image/original.png')#Save image\n",
        "tampered = tampered.resize((250,160))\n",
        "print(tampered.size)\n",
        "tampered.save('pan_card_tampering/image/tampered.png')#Saves image"
      ]
    },
    {
      "cell_type": "markdown",
      "metadata": {
        "id": "TFCJuvVdKCxo"
      },
      "source": [
      ]
    },
    {
      "cell_type": "code",
      "execution_count": null,
      "metadata": {
        "id": "s4SvyoMWKCxp"
      },
      "outputs": [],
      "source": [
        "tampered = Image.open('pan_card_tampering/image/tampered.png')\n",
        "tampered.save('pan_card_tampering/image/tampered.png')#can do png to jpg"
      ]
    },
    {
      "cell_type": "markdown",
      "metadata": {
        "id": "KSjxpFJaKCxq"
      },
      "source": [
      ]
    },
    {
      "cell_type": "markdown",
      "metadata": {
        "id": "9sP20HDdKCxm"
      },
      "source": [
      ]
    },
    {
      "cell_type": "markdown",
      "metadata": {
        "id": "_e8u-oUNKCxn"
      },
      "source": [
      ]
    },
    {
      "cell_type": "code",
      "execution_count": null,
      "metadata": {
        "id": "XzJpYmBrKCxr"
      },
      "outputs": [],
      "source": [
        "original = cv2.imread('pan_card_tampering/image/original.png')\n",
        "tampered = cv2.imread('pan_card_tampering/image/tampered.png')"
      ]
    },
    {
      "cell_type": "markdown",
      "metadata": {
        "id": "hMiNC5D9KCxr"
      },
      "source": [
      ]
    },
    {
      "cell_type": "code",
      "execution_count": null,
      "metadata": {
        "id": "oSlQrNSUKCxr"
      },
      "outputs": [],
      "source": [
        "original_gray = cv2.cvtColor(original, cv2.COLOR_BGR2GRAY)\n",
        "tampered_gray = cv2.cvtColor(tampered, cv2.COLOR_BGR2GRAY)"
      ]
    },
    {
      "cell_type": "markdown",
      "metadata": {
        "id": "T8C00E3rKCxr"
      },
      "source": [
      ]
    },
    {
      "cell_type": "code",
      "execution_count": null,
      "metadata": {
        "colab": {
          "base_uri": "https://localhost:8080/"
        },
        "id": "2-Q3iyZ1KCxs",
        "outputId": "43057a54-b5d8-4db7-984d-fb65c0b6d20b"
      },
      "outputs": [
        {
          "name": "stdout",
          "output_type": "stream",
          "text": [
            "SSIM: 0.31678790332739426\n"
          ]
        }
      ],
      "source": [
        "(score, diff) = structural_similarity(original_gray, tampered_gray, full=True) # score gives you an overall measure of how similar the entire images are and diff provides a detailed map showing which areas of the images are similar and which are different.\n",
        "diff = (diff * 255).astype(\"uint8\")\n",
        "print(\"SSIM: {}\".format(score))"
      ]
    },
    {
      "cell_type": "code",
      "execution_count": null,
      "metadata": {
        "id": "KZyROfb0KCxt"
      },
      "outputs": [],
      "source": [
        "thresh = cv2.threshold(diff, 0, 255, cv2.THRESH_BINARY_INV | cv2.THRESH_OTSU)[1]\n",
        "cnts = cv2.findContours(thresh.copy(), cv2.RETR_EXTERNAL, cv2.CHAIN_APPROX_SIMPLE)\n",
        "cnts = imutils.grab_contours(cnts)"
      ]
    },
    {
      "cell_type": "markdown",
      "metadata": {
        "id": "x6adrld3KCxt"
      },
      "source": [
     
      ]
    },
    {
      "cell_type": "code",
      "execution_count": null,
      "metadata": {
        "id": "UF_GWIPUKCxu"
      },
      "outputs": [],
      "source": [
        
        "for c in cnts:\n",
        "    # applying contours on image\n",
        "    (x, y, w, h) = cv2.boundingRect(c)\n",
        "    cv2.rectangle(original, (x, y), (x + w, y + h), (0, 0, 255), 2)\n",
        "    cv2.rectangle(tampered, (x, y), (x + w, y + h), (0, 0, 255), 2)"
      ]
    },
    {
      "cell_type": "code",
      "execution_count": null,
      "metadata": {
        "id": "t_VCdHTKKCxx"
      },
      "outputs": [],
      "source": []
    }
  ],
  "metadata": {
    "accelerator": "GPU",
    "colab": {
      "collapsed_sections": [],
      "name": "Pan Card Tampering.ipynb",
      "provenance": []
    },
    "kernelspec": {
      "display_name": "Python 3",
      "name": "python3"
    }
  },
  "nbformat": 4,
  "nbformat_minor": 0
}
